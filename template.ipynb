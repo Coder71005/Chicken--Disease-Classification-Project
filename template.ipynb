{
 "cells": [
  {
   "cell_type": "code",
   "execution_count": 1,
   "id": "5346350b",
   "metadata": {},
   "outputs": [],
   "source": [
    "import os\n",
    "from pathlib import Path\n",
    "import logging"
   ]
  },
  {
   "cell_type": "code",
   "execution_count": 2,
   "id": "4bffdab3",
   "metadata": {},
   "outputs": [],
   "source": [
    "logging.basicConfig(level = logging.INFO, format = '[%(asctime)s]: %(message)s:')"
   ]
  },
  {
   "cell_type": "code",
   "execution_count": 5,
   "id": "c45f5ccb",
   "metadata": {},
   "outputs": [],
   "source": [
    "project_name = 'cnnClassifier'\n",
    "\n",
    "lis_of_files = [\n",
    "    \".guthib/workflos/.gitkeep\",\n",
    "    f\"src/{project_name}/__init__.py\",\n",
    "    f\"src/{project_name}/components/__init__.py\",\n",
    "    f\"src/{project_name}/utils/__init__.py\",\n",
    "    f\"src/{project_name}/config/__init__.py\",\n",
    "    f\"src/{project_name}/config/configuration.py\",\n",
    "    f\"src/{project_name}/pipeline/__init__.py\",\n",
    "    f\"src/{project_name}/entity/__init__.py\",\n",
    "    f\"src/{project_name}/constants/__init__.py\",\n",
    "    \"config/config.yaml\",\n",
    "    \"dvc.yamil\",\n",
    "    \"params.ymal\",\n",
    "    \"requirements.txt\",\n",
    "    \"setup.py\",\n",
    "    \"research/trials/ipynb\",\n",
    "    \"templates/index.html\"\n",
    "]"
   ]
  },
  {
   "cell_type": "code",
   "execution_count": 6,
   "id": "996e8e4a",
   "metadata": {},
   "outputs": [
    {
     "name": "stderr",
     "output_type": "stream",
     "text": [
      "[2023-08-10 13:45:34,887]: Creating directiory;.guthib/workflos for the file: .gitkeep:\n",
      "[2023-08-10 13:45:34,888]: Creating empty file: .guthib/workflos/.gitkeep:\n",
      "[2023-08-10 13:45:34,890]: Creating directiory;src/cnnClassifier for the file: __init__.py:\n",
      "[2023-08-10 13:45:34,891]: Creating empty file: src/cnnClassifier/__init__.py:\n",
      "[2023-08-10 13:45:34,892]: Creating directiory;src/cnnClassifier/components for the file: __init__.py:\n",
      "[2023-08-10 13:45:34,892]: Creating empty file: src/cnnClassifier/components/__init__.py:\n",
      "[2023-08-10 13:45:34,893]: Creating directiory;src/cnnClassifier/utils for the file: __init__.py:\n",
      "[2023-08-10 13:45:34,894]: Creating empty file: src/cnnClassifier/utils/__init__.py:\n",
      "[2023-08-10 13:45:34,894]: Creating directiory;src/cnnClassifier/config for the file: __init__.py:\n",
      "[2023-08-10 13:45:34,895]: Creating empty file: src/cnnClassifier/config/__init__.py:\n",
      "[2023-08-10 13:45:34,896]: Creating directiory;src/cnnClassifier/config for the file: configuration.py:\n",
      "[2023-08-10 13:45:34,896]: Creating empty file: src/cnnClassifier/config/configuration.py:\n",
      "[2023-08-10 13:45:34,897]: Creating directiory;src/cnnClassifier/pipeline for the file: __init__.py:\n",
      "[2023-08-10 13:45:34,898]: Creating empty file: src/cnnClassifier/pipeline/__init__.py:\n",
      "[2023-08-10 13:45:34,898]: Creating directiory;src/cnnClassifier/entity for the file: __init__.py:\n",
      "[2023-08-10 13:45:34,899]: Creating empty file: src/cnnClassifier/entity/__init__.py:\n",
      "[2023-08-10 13:45:34,900]: Creating directiory;src/cnnClassifier/constants for the file: __init__.py:\n",
      "[2023-08-10 13:45:34,901]: Creating empty file: src/cnnClassifier/constants/__init__.py:\n",
      "[2023-08-10 13:45:34,902]: Creating directiory;config for the file: config.yaml:\n",
      "[2023-08-10 13:45:34,903]: Creating empty file: config/config.yaml:\n",
      "[2023-08-10 13:45:34,903]: Creating empty file: dvc.yamil:\n",
      "[2023-08-10 13:45:34,904]: Creating empty file: params.ymal:\n",
      "[2023-08-10 13:45:34,905]: requirements.txt is already exist:\n",
      "[2023-08-10 13:45:34,905]: Creating empty file: setup.py:\n",
      "[2023-08-10 13:45:34,906]: Creating directiory;research/trials for the file: ipynb:\n",
      "[2023-08-10 13:45:34,906]: Creating empty file: research/trials/ipynb:\n",
      "[2023-08-10 13:45:34,907]: Creating directiory;templates for the file: index.html:\n",
      "[2023-08-10 13:45:34,908]: Creating empty file: templates/index.html:\n"
     ]
    }
   ],
   "source": [
    "for filepath in lis_of_files:\n",
    "    filepath = Path(filepath)\n",
    "    filedir,filename = os.path.split(filepath)\n",
    "    \n",
    "    \n",
    "    if filedir != \"\":\n",
    "        os.makedirs(filedir,exist_ok = True)\n",
    "        logging.info(f\"Creating directiory;{filedir} for the file: {filename}\")\n",
    "        \n",
    "    if (not os.path.exists(filepath)) or (os.path.getsize(filepath) ==0):\n",
    "        with open(filepath,\"w\") as f:\n",
    "            pass\n",
    "            logging.info(f\"Creating empty file: {filepath}\")\n",
    "    else:\n",
    "        logging.info(f\"{filename} is already exist\")"
   ]
  },
  {
   "cell_type": "code",
   "execution_count": null,
   "id": "8004140f",
   "metadata": {},
   "outputs": [],
   "source": []
  },
  {
   "cell_type": "code",
   "execution_count": null,
   "id": "6a26c5e5",
   "metadata": {},
   "outputs": [],
   "source": []
  }
 ],
 "metadata": {
  "kernelspec": {
   "display_name": "Python 3 (ipykernel)",
   "language": "python",
   "name": "python3"
  },
  "language_info": {
   "codemirror_mode": {
    "name": "ipython",
    "version": 3
   },
   "file_extension": ".py",
   "mimetype": "text/x-python",
   "name": "python",
   "nbconvert_exporter": "python",
   "pygments_lexer": "ipython3",
   "version": "3.8.17"
  }
 },
 "nbformat": 4,
 "nbformat_minor": 5
}
